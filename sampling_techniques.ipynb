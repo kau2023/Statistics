{
 "cells": [
  {
   "cell_type": "code",
   "execution_count": null,
   "id": "535cfada-a3f9-4516-bf08-66a31fe82e5d",
   "metadata": {},
   "outputs": [],
   "source": [
    "Sampling Techniques implementation in python\n",
    "\n",
    "1.Simple Random Sampling: This is a method where every individual in the population has \n",
    "an equal chance of being selected in the sample."
   ]
  },
  {
   "cell_type": "code",
   "execution_count": 1,
   "id": "c6064905-6604-4594-b76f-54ccae1423e0",
   "metadata": {},
   "outputs": [
    {
     "name": "stdout",
     "output_type": "stream",
     "text": [
      "[7, 4, 10, 2, 1]\n"
     ]
    }
   ],
   "source": [
    "import random\n",
    "\n",
    "# population\n",
    "population = [1, 2, 3, 4, 5, 6, 7, 8, 9, 10]\n",
    "\n",
    "# sample size\n",
    "sample_size = 5\n",
    "\n",
    "# simple random sampling\n",
    "sample = random.sample(population, sample_size)\n",
    "\n",
    "print(sample)"
   ]
  },
  {
   "cell_type": "code",
   "execution_count": null,
   "id": "ab135829-aeec-4463-8320-0d73c73daebc",
   "metadata": {},
   "outputs": [],
   "source": [
    "2.Stratified Sampling: This method involves dividing the population into non-overlapping \n",
    "groups or strata, and then selecting a simple random sample from each stratum."
   ]
  },
  {
   "cell_type": "code",
   "execution_count": null,
   "id": "023fcc40-9221-4a44-8a49-8468559ffd07",
   "metadata": {},
   "outputs": [],
   "source": [
    "import random\n",
    "\n",
    "# population divided into strata\n",
    "population_strata = {'Stratum A': [1, 2, 3, 4, 5], 'Stratum B': [6, 7, 8, 9, 10]}\n",
    "\n",
    "# sample size for each stratum\n",
    "sample_size_strata = {'Stratum A': 2, 'Stratum B': 3}\n",
    "\n",
    "# stratified sampling\n",
    "sample = []\n",
    "for stratum, size in sample_size_strata.items():\n",
    "    sample += random.sample(population_strata[stratum], size)\n",
    "\n",
    "print(sample)\n"
   ]
  },
  {
   "cell_type": "code",
   "execution_count": null,
   "id": "6ea78394-8cef-418e-b335-9ca12309f5aa",
   "metadata": {},
   "outputs": [],
   "source": [
    "3.Cluster Sampling: This method involves dividing the population into clusters, and then randomly selecting a \n",
    "few clusters and sampling all individuals within those clusters."
   ]
  },
  {
   "cell_type": "code",
   "execution_count": 2,
   "id": "6c218d89-c0b7-4ad5-84d0-d7fbaa474472",
   "metadata": {},
   "outputs": [
    {
     "name": "stdout",
     "output_type": "stream",
     "text": [
      "[7, 8, 9, 10, 4, 5, 6]\n"
     ]
    }
   ],
   "source": [
    "import random\n",
    "\n",
    "# population divided into clusters\n",
    "population_clusters = {'Cluster A': [1, 2, 3], 'Cluster B': [4, 5, 6], 'Cluster C': [7, 8, 9, 10]}\n",
    "\n",
    "# number of clusters to sample\n",
    "num_clusters_sampled = 2\n",
    "\n",
    "# cluster sampling\n",
    "sample = []\n",
    "sampled_clusters = random.sample(list(population_clusters.keys()), num_clusters_sampled)\n",
    "for cluster in sampled_clusters:\n",
    "    sample += population_clusters[cluster]\n",
    "\n",
    "print(sample)\n"
   ]
  },
  {
   "cell_type": "code",
   "execution_count": null,
   "id": "ef0e62c5-0aec-45b7-a44c-1a5fea813344",
   "metadata": {},
   "outputs": [],
   "source": [
    "Systematic Sampling: 4.This method involves selecting every nth individual from the population after a \n",
    "random starting point is chosen."
   ]
  },
  {
   "cell_type": "code",
   "execution_count": 3,
   "id": "1ec8da62-30c7-4734-98c3-2c79cab5c440",
   "metadata": {},
   "outputs": [
    {
     "name": "stdout",
     "output_type": "stream",
     "text": [
      "[6]\n"
     ]
    }
   ],
   "source": [
    "import random\n",
    "\n",
    "# population\n",
    "population = [1, 2, 3, 4, 5, 6, 7, 8, 9, 10]\n",
    "\n",
    "# sample size\n",
    "sample_size = 5\n",
    "\n",
    "# choose random starting point\n",
    "starting_point = random.randint(1, sample_size)\n",
    "\n",
    "# systematic sampling\n",
    "sample = []\n",
    "for i in range(starting_point, len(population), sample_size):\n",
    "    sample.append(population[i])\n",
    "\n",
    "print(sample)\n"
   ]
  }
 ],
 "metadata": {
  "kernelspec": {
   "display_name": "Python 3 (ipykernel)",
   "language": "python",
   "name": "python3"
  },
  "language_info": {
   "codemirror_mode": {
    "name": "ipython",
    "version": 3
   },
   "file_extension": ".py",
   "mimetype": "text/x-python",
   "name": "python",
   "nbconvert_exporter": "python",
   "pygments_lexer": "ipython3",
   "version": "3.10.6"
  }
 },
 "nbformat": 4,
 "nbformat_minor": 5
}
